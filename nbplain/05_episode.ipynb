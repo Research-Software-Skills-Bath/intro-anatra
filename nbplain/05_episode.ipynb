{
 "cells": [
  {
   "cell_type": "markdown",
   "id": "legendary-heating",
   "metadata": {},
   "source": [
    "# Software"
   ]
  },
  {
   "cell_type": "markdown",
   "id": "surprising-bibliography",
   "metadata": {},
   "source": [
    "## Overview:\n",
    "- **Teaching:** 10 min\n",
    "- **Exercises:** 5 min\n",
    "\n",
    "**Questions**\n",
    "- How do I access software?\n",
    "- How can I access different applications?\n",
    "\n",
    "**Objectives**\n",
    "- Know that software on Janus is managed with `module` and understand how to use it\n",
    "- Know that software is collected into groups on different instances\n"
   ]
  },
  {
   "cell_type": "markdown",
   "id": "agreed-laptop",
   "metadata": {},
   "source": [
    "## `module`\n",
    "\n",
    "On Anatra, `module` is used to manage different libraries and pieces of software. Unlike your own machine where you likely have one set of up packages each running with the latest versions, on Anatra there are many different applications each with different versions and libraries that they rely on.  Tools like module ensure researchers can access the versions of applications and libraries they want and allow the service to be managed more easily.  It also means that the correct dependencies, typically libraries that are used to compile applications can be loaded automatically making life easier for users.\n",
    "\n",
    "You can check what modules are loaded when you first log-in to Anatra:"
   ]
  },
  {
   "cell_type": "markdown",
   "id": "convinced-deadline",
   "metadata": {},
   "source": [
    "```bash\n",
    "mjc62 in anatra-01 in ~\n",
    "❯ module list\n",
    "Currently Loaded Modulefiles:\n",
    " 1) gcc/10.2.0   2) slurm/anatra/current\n",
    "```"
   ]
  },
  {
   "cell_type": "markdown",
   "id": "amber-private",
   "metadata": {},
   "source": [
    "You can also run this command at any time to check which modules you have loaded or removed.\n",
    "By default only `gcc-10.2.0`, `slurm/anatra/current` are loaded. gcc provides the standard serial gnu compiler suite.  "
   ]
  },
  {
   "cell_type": "markdown",
   "id": "studied-means",
   "metadata": {},
   "source": [
    "You can see what modules are available with \n",
    "\n",
    "```bash\n",
    "❯ module avail\n",
    "----------------------------------------------------------- /cm/local/modulefiles -----------------------------------------------------------\n",
    "boost/1.74.0            cm-bios-tools  cuda-dcgm/2.2.9.1  gcc/10.2.0       luajit        module-info  python3   slurm/anatra/current\n",
    "cluster-tools-dell/9.1  cmd            dot                ipmitool/1.8.18  mariadb-libs  null         python37\n",
    "cluster-tools/9.1       cmjob          freeipmi/1.6.6     lua/5.4.0        module-git    openldap     shared\n",
    "\n",
    "---------------------------------------------------------- /cm/shared/modulefiles -----------------------------------------------------------\n",
    "Anaconda3/2021.05    dos2unix/7.4.0    gaussian/16/C.01  openmpi/gcc/64/1.10.7\n",
    "default-environment  gaussian/09/A.02  gaussview/6       TurboVNC/2.2.90\n",
    "```\n",
    "\n",
    "A large number of dependencies have been hidden from this search, but can be seen with  ```module avail --all```. Even when hidden, these modules can still be loaded if needed."
   ]
  },
  {
   "cell_type": "markdown",
   "id": "mounted-cursor",
   "metadata": {},
   "source": [
    "The software modules will be updated as we build, test and broaden the software stack. Generally speaking, whilst the location of module files may change, the `module load` command required to load a specific version of software should not change, and notice will be given if any breaking changes are to be deployed.\n",
    "\n",
    "\n",
    "## Configuring a python environment\n",
    "\n",
    "The `Anaconda3` module is available. A `compchem` environment has been configured with OpenBabel and goodvibes.\n",
    "\n",
    "```bash\n",
    "mjc62 in anatra-01 in ~\n",
    "❯ module load Anaconda3/2021.05\n",
    "\n",
    "mjc62 in anatra-01 in ~\n",
    "❯ conda env list\n",
    "# conda environments:\n",
    "#\n",
    "base                  *  /cm/shared/apps/Anaconda3/2021.05\n",
    "compchem                 /cm/shared/apps/Anaconda3/2021.05/envs/compchem\n",
    "\n",
    "mjc62 in anatra-01 in ~\n",
    "❯ conda activate compchem\n",
    "\n",
    "mjc62 in anatra-01 in ~ via 🅒 compchem\n",
    "❯ type obabel\n",
    "obabel is /cm/shared/apps/Anaconda3/2021.05/envs/compchem/bin/obabel\n",
    "```\n",
    "\n",
    "Anaconda can also be used to create your own python environment if other packages are required. To recreate the `compchem` environment for example:\n",
    "\n",
    "```bash\n",
    "conda create -n my-environment\n",
    "conda activate my-environment\n",
    "conda install -c patonlab -c conda-forge Goodvibes OpenBabel\n",
    "```"
   ]
  }
 ],
 "metadata": {
  "kernelspec": {
   "display_name": "Python 3",
   "language": "python",
   "name": "python3"
  },
  "language_info": {
   "codemirror_mode": {
    "name": "ipython",
    "version": 3
   },
   "file_extension": ".py",
   "mimetype": "text/x-python",
   "name": "python",
   "nbconvert_exporter": "python",
   "pygments_lexer": "ipython3",
   "version": "3.9.7"
  }
 },
 "nbformat": 4,
 "nbformat_minor": 5
}
