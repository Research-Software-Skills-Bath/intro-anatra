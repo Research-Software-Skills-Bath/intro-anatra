{
 "cells": [
  {
   "cell_type": "markdown",
   "id": "legendary-heating",
   "metadata": {},
   "source": [
    "# Software"
   ]
  },
  {
   "cell_type": "markdown",
   "id": "surprising-bibliography",
   "metadata": {},
   "source": [
    "## Overview:\n",
    "- **Teaching:** 10 min\n",
    "- **Exercises:** 5 min\n",
    "\n",
    "**Questions**\n",
    "- How do I access software?\n",
    "- How can I access different applications?\n",
    "\n",
    "**Objectives**\n",
    "- Know that software on Janus is managed with `module` and understand how to use it\n",
    "- Know that software is collected into groups on different instances\n"
   ]
  },
  {
   "cell_type": "markdown",
   "id": "agreed-laptop",
   "metadata": {},
   "source": [
    "## `module`\n",
    "\n",
    "On Anatra, `module` is used to manage different libraries and pieces of software. Unlike your own machine where you likely have one set of up packages each running with the latest versions, on Anatra there are many different applications each with different versions and libraries that they rely on.  Tools like module ensure researchers can access the versions of applications and libraries they want and allow the service to be managed more easily.  It also means that the correct dependencies, typically libraries that are used to compile applications can be loaded automatically making life easier for users.\n",
    "\n",
    "You can check what modules are loaded when you first log-in to Anatra:"
   ]
  },
  {
   "cell_type": "markdown",
   "id": "convinced-deadline",
   "metadata": {},
   "source": [
    "```bash\n",
    " [bad45@loginnode1 ~]$ ~\n",
    "❯ module list\n",
    "Currently Loaded Modulefiles:\n",
    "  1) python/3.13.5   2) GCCcore/15.1.0   3) GCC/15.1.0\n",
    "```"
   ]
  },
  {
   "cell_type": "markdown",
   "id": "amber-private",
   "metadata": {},
   "source": [
    "You can also run this command at any time to check which modules you have loaded or removed.\n",
    "By default only `gcc-10.2.0` are loaded. gcc provides the standard serial gnu compiler suite.  "
   ]
  },
  {
   "cell_type": "markdown",
   "id": "studied-means",
   "metadata": {},
   "source": [
    "You can see what modules are available with \n",
    "\n",
    "```bash\n",
    "❯ module avail\n",
    "--------------------------------------------------------------------------------- /mnt/shared/apps/etc/modulefiles/compilers ---------------------------------------------------------------------------------\n",
    "GCC/15.1.0  GCCcore/14.2.0  GCCcore/15.1.0\n",
    "\n",
    "--------------------------------------------------------------------------------- /mnt/shared/apps/etc/modulefiles/libraries ---------------------------------------------------------------------------------\n",
    "cuda/12.9.1  cuda/13.0.1  openmpi/4.1.6  openmpi/4.1.8  openmpi/5.0.8\n",

    "----------------------------------------------------------------------------------- /mnt/shared/apps/etc/modulefiles/tools -----------------------------------------------------------------------------------\n",
    "apptainer/1.4.1  git/2.49.0-GCCcore-14.2.0\n",

    "------------------------------------------------------------------------------- /mnt/shared/apps/etc/modulefiles/interpreters --------------------------------------------------------------------------------\n",
    "anaconda/2025.06  python/3.13.5  R/4.5.1\n",

    "------------------------------------------------------------------------------- /mnt/shared/apps/etc/modulefiles/applications --------------------------------------------------------------------------------\n",
    "aimall/19.10.12  crest/3.0.2  easybuild/5.1.1  gaussian/09/A.02  gaussian/16/C.01  gaussview/6  imb/2021.10  nbo/7.0  openbabel/3.1.1  orca/6.0.1  TurboVNC/2.2.90\n",
    "```\n",
    "\n",
    "A large number of dependencies have been hidden from this search, but can be seen with  ```module avail --all```. Even when hidden, these modules can still be loaded if needed."
   ]
  },
  {
   "cell_type": "markdown",
   "id": "mounted-cursor",
   "metadata": {},
   "source": [
    "The software modules will be updated as we build, test and broaden the software stack. Generally speaking, whilst the location of module files may change, the `module load` command required to load a specific version of software should not change, and notice will be given if any breaking changes are to be deployed.\n",
    "\n",
    "\n",
    "## Configuring a python environment\n",
    "\n",
    "The `Anaconda3` module is available. A `compchem` environment has been configured with OpenBabel and goodvibes.\n",
    "\n",
    "```bash\n",
    "mjc62 in anatra-01 in ~\n",
    "❯ module load Anaconda3/2025.06\n",
    "\n",
    "mjc62 in anatra-01 in ~\n",
    "❯ conda env list\n",
    "# conda environments:\n",
    "#\n",
    "base                  *  /mnt/shared/apps/Anaconda3/2025.06\n",
    "compchem                 /mnt/shared/apps/Anaconda3/2025.06/envs/compchem\n",
    "\n",
    "mjc62 in anatra-01 in ~\n",
    "❯ conda activate compchem\n",
    "\n",
    "mjc62 in anatra-01 in ~ via 🅒 compchem\n",
    "❯ type obabel\n",
    "obabel is /cm/shared/apps/Anaconda3/2021.05/envs/compchem/bin/obabel\n",
    "```\n",
    "\n",
    "Anaconda can also be used to create your own python environment if other packages are required. To recreate the `compchem` environment for example:\n",
    "\n",
    "```bash\n",
    "conda create -n my-environment\n",
    "conda activate my-environment\n",
    "conda install -c patonlab -c conda-forge Goodvibes OpenBabel\n",
    "```"
   ]
  }
 ],
 "metadata": {
  "kernelspec": {
   "display_name": "Python 3",
   "language": "python",
   "name": "python3"
  },
  "language_info": {
   "codemirror_mode": {
    "name": "ipython",
    "version": 3
   },
   "file_extension": ".py",
   "mimetype": "text/x-python",
   "name": "python",
   "nbconvert_exporter": "python",
   "pygments_lexer": "ipython3",
   "version": "3.9.7"
  }
 },
 "nbformat": 4,
 "nbformat_minor": 5
}
