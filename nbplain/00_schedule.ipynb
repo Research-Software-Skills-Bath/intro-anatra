{
 "cells": [
  {
   "cell_type": "markdown",
   "metadata": {
    "slideshow": {
     "slide_type": "slide"
    }
   },
   "source": [
    "# Introduction to the Anatra HPC service"
   ]
  },
  {
   "cell_type": "markdown",
   "metadata": {
    "slideshow": {
     "slide_type": "slide"
    }
   },
   "source": [
    "# Anatra High Performance Computing System\n",
    "\n",
    "## Overview\n",
    "\n",
    "The Anatra High Performance Compute (HPC) system provides University of Bath researchers with specialized computing infrastructure tailored to diverse research requirements. The cluster comprises 19 compute nodes organized into dedicated partitions, each optimized for specific research domains and computational workloads.\n",
    "\n",
    "---\n",
    "\n",
    "## Partition Architecture\n",
    "\n",
    "The system is structured into five distinct partitions, each serving specific research communities:\n",
    "\n",
    "| Partition Name | Node Range | Purpose | Access |\n",
    "|----------------|------------|---------|--------|\n",
    "| **nodes** | node001–node008 | General-purpose computing | All users |\n",
    "| **chemistry** | node009–node016 | Chemistry computations | Chemistry users |\n",
    "| **lifesci** | node017 | Life Sciences workloads | Life Sciences users |\n",
    "| **chemgpu** | node018 | GPU-accelerated computing | Chemistry users |\n",
    "| **lifescigpu** | node019 | GPU-accelerated computing | Life Sciences users |\n",
    "\n",
    "### Partition Descriptions\n",
    "\n",
    "- **nodes**: General-purpose partition available to all researchers across the university for standard computational tasks\n",
    "- **chemistry**: Dedicated resources for computational chemistry applications and molecular simulations\n",
    "- **lifesci**: Specialized node for life sciences research, including bioinformatics and genomics workflows\n",
    "- **chemgpu**: GPU-enabled computing for accelerated chemistry calculations and molecular dynamics\n",
    "- **lifescigpu**: GPU-enabled computing for life sciences applications requiring graphics processing capabilities\n",
    "\n",
    "---\n",
    "\n",
    "## System Information Commands\n",
    "\n",
    "After connecting to the Anatra HPC system, you can query node and partition specific detailed information using the following SLURM commands:\n",
    "\n",
    "### Display All Partitions and Nodes\n",
    "```bash\n",
    "sinfo -Nel\n",
    "```\n",
    "\n",
    "**Command breakdown:**\n",
    "- `sinfo` — Display node and partition information\n",
    "- `-N` — Show node-specific details rather than partition summaries\n",
    "- `-e` — Include additional node features and attributes\n",
    "- `-l` — Use long listing format for comprehensive output\n",
    "\n",
    "**Use case:** Provides a complete overview of all partitions and nodes, including their current states and hardware capabilities.\n",
    "\n",
    "---\n",
    "\n",
    "### View Detailed Node Hardware Specifications\n",
    "```bash\n",
    "scontrol show nodes\n",
    "```\n",
    "\n",
    "**Command breakdown:**\n",
    "- `scontrol` — SLURM control utility for viewing and modifying cluster configuration\n",
    "- `show nodes` — Display comprehensive hardware details for each node\n",
    "\n",
    "**Information provided:**\n",
    "- CPU architecture, core count, and socket configuration\n",
    "- Total and available memory\n",
    "- Node operational state (idle, allocated, drained, down)\n",
    "- GPU specifications (where applicable)\n",
    "- Real memory, temporary disk space, and other hardware attributes\n",
    "\n",
    "**Use case:** Obtain detailed hardware-level information about cluster resources for resource planning and job optimization.\n",
    "\n",
    "---\n",
    "\n",
    "### Generate Resource Summary Report\n",
    "```bash\n",
    "sinfo -o \"%P %N %t %C %m %G\"\n",
    "```\n",
    "\n",
    "**Command breakdown:**\n",
    "- `sinfo` — Display node and partition information\n",
    "- `-o` — Specify custom output format using field specifiers\n",
    "\n",
    "**Output columns:**\n",
    "- `%P` — Partition name\n",
    "- `%N` — Node list\n",
    "- `%t` — Node state (idle, alloc, down, drain, etc.)\n",
    "- `%C` — CPU allocation summary (format: Allocated/Idle/Other/Total)\n",
    "- `%m` — Memory available per node (in MB)\n",
    "- `%G` — GPU type and count (if equipped)\n",
    "\n",
    "**Use case:** Quickly assess available resources across all partitions in a compact, tabular format for efficient job submission planning.\n",
    "\n",
    "---"
   ]
  },
  {
   "cell_type": "markdown",
   "metadata": {
    "slideshow": {
     "slide_type": "slide"
    }
   },
   "source": [
    "## Prerequisites\n",
    "\n",
    "In order to complete the workshop you should be familiar with:\n",
    "* The linux command line\n",
    "* Accessing and submitting jobs to High Performance Computing clusters as a user"
   ]
  },
  {
   "cell_type": "markdown",
   "metadata": {
    "slideshow": {
     "slide_type": "slide"
    }
   },
   "source": [
    "## Schedule\n",
    "\n",
    "Approximate timings for the lesson:\n",
    "\n",
    "| Time | Episode | Description |\n",
    "|---|---|---|\n",
    "| -:-- | [Setup](./00_setup.ipynb) | Setup for the lesson |\n",
    "| 0:05 | [Accessing Anatra](./01_episode.ipynb) | Logging onto the system |\n",
    "| 0:20 | [Slurm](./02_episode.ipynb) | A brief overview of slurm |\n",
    "| 0:30 | [Hardware](./03_episode.ipynb) | Overview of available hardware | \n",
    "| 0:40 | [Storage](./04_episode.ipynb) | Storage set-up and where to keep your data |\n",
    "| 0:50 | [Software](./05_episode.ipynb) | Using software modules |\n",
    "| 0:55 | [Running a job](./06_episode.ipynb) | Submitting a job |\n",
    "| 0:55 | [Starting a VNC session](./07_episode.ipynb) | Visualising data |\n",
    "| 0:55 | [Running GPU Jobs](./08_episode.ipynb) | Submitting GPU jobs for CUDA applications |\n",
    "| 0.55 | [Apptainer Containers](./09_episode.ipynb) | Running Containerized Jobs with Apptainer |"
   ]
  }
 ],
 "metadata": {
  "celltoolbar": "Slideshow",
  "kernelspec": {
   "display_name": "Python 3",
   "language": "python",
   "name": "python3"
  },
  "language_info": {
   "codemirror_mode": {
    "name": "ipython",
    "version": 3
   },
   "file_extension": ".py",
   "mimetype": "text/x-python",
   "name": "python",
   "nbconvert_exporter": "python",
   "pygments_lexer": "ipython3",
   "version": "3.9.7"
  }
 },
 "nbformat": 4,
 "nbformat_minor": 2
}
