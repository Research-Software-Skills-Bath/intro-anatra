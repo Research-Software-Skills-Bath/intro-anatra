{
 "cells": [
  {
   "cell_type": "markdown",
   "id": "funded-liberal",
   "metadata": {},
   "source": [
    "# Storage"
   ]
  },
  {
   "cell_type": "markdown",
   "id": "muslim-startup",
   "metadata": {},
   "source": [
    "## Overview:\n",
    "- **Teaching:** 10 min\n",
    "- **Exercises:** 3 min\n",
    "\n",
    "**Questions**\n",
    "- What storage is available?\n",
    "- How does this affect my workflow?\n",
    "- Where should I keep my data?\n",
    "\n",
    "\n",
    "**Objectives**\n",
    "- Understand the storage structure of the new system.\n",
    "- Know where to keep your data, and how to stage data for runs."
   ]
  },
  {
   "cell_type": "markdown",
   "id": "designed-estonia",
   "metadata": {},
   "source": [
    "## Filesystem on Phase 1\n",
    "\n",
    "The filesystem on Anatra has the following layout:\n",
    "\n",
    "* ```/home```: Each user is given a home folder, which is backed up and accessible on both login and compute nodes, with a soft quota of 5GB and a hard quota of 6GB. You can check your quota usage with ```quota -us <username>```. \n",
    "  \n",
    "* ```/scratch```: 10TB shared file storage. It is <font size=\"3\">**not backed up**</font> and should not be used for storing data long term. This space can be accessed from both the login and compute nodes. \n",
    "\n",
    "* ```/apps/```: 1TB Azure managed Disk. This space contains centrally compiled software for use of users.\n",
    "\n",
    "* ```/local```: The disk local to the machine being used. On compute nodes, there is 960 GB of NVMe storage located in this area, only accessible from the compute node.\n",
    "\n",
    "\n",
    "Projects on Anatra are assigned storage space in ```/scratch/projects/[project-id]```, with a soft quota of 100GB and a hard quota of 110GB by default. Access to this space can be shared by multiple users, with the project owner managing access via the [UNIX group management tool](https://www.bath.ac.uk/account/cas-bin/group-admin). \n",
    "\n",
    "Generally speaking, your working directory for SLURM jobs should be in a subdirectory of ```/scratch/projects/[project-id]```."
   ]
  },
  {
   "cell_type": "markdown",
   "id": "virtual-coalition",
   "metadata": {},
   "source": [
    "## Exercise: Quota and disk usage\n",
    "\n",
    "We saw earlier that you have a 5GB quota for your home area.  Check your home area quota using the following commands:-\n",
    "\n",
    "```bash\n",
    "❯ quota -us mjc62\n",
    "Disk quotas for user mjc62 (uid 1066738):\n",
    "     Filesystem   space   quota   limit   grace   files   quota   limit   grace\n",
    "   master:/apps   5086M   5120M   6144M            146k       0       0\n",
    "   master:/home   5086M   5120M   6144M            146k       0       0\n",
    "[bad45@loginnode1 ~]$ quota -us bad45\n",
    "Disk quotas for user bad45 (uid 1713200):\n",
    "      Filesystem   space   quota   limit   grace   files   quota   limit   grace:\n",
    "172.31.6.1:/mnt/shared/apps:\n",
    "              4770M   5120M   6144M           35135       0       0:\n",

    "   \n",
    "❯ quota -gs hpc_pra-uat001\n",
    "Disk quotas for group hpc_pra-uat001 (gid 10649):\n",
    "     Filesystem   space   quota   limit   grace   files   quota   limit   grace\n",
    "master:/scratch      0K    100G    110G               1       0       0\n",
    
    "[bad45@loginnode1 ~]$ quota -gs hpc_pra-0064\n",
    "Disk quotas for group hpc_pra-0064 (gid 8019):\n",
    "     Filesystem   space   quota   limit   grace   files   quota   limit   grace\n",
    "172.31.6.1:/mnt/scratch\n",
    "              1941M    100G    110G           23926       0       0\n",

    "```\n",
    "\n",
    "You can also use the df command we saw earlier to check partition size and usage information\n",
    "```bash\n",
    "$ df -h\n",
    "```"
   ]
  },
  {
   "cell_type": "markdown",
   "id": "czech-claim",
   "metadata": {},
   "source": [
    "## Key Points:\n",
    "- There are different storage areas on the Anatra system.\n",
    "- **Only** your `/home/` area is backed up.\n",
    "- Data should not be stored on `/scratch/` long term, and should be moved to archival storage at the end of projects."
   ]
  }
 ],
 "metadata": {
  "kernelspec": {
   "display_name": "Python 3",
   "language": "python",
   "name": "python3"
  },
  "language_info": {
   "codemirror_mode": {
    "name": "ipython",
    "version": 3
   },
   "file_extension": ".py",
   "mimetype": "text/x-python",
   "name": "python",
   "nbconvert_exporter": "python",
   "pygments_lexer": "ipython3",
   "version": "3.9.7"
  }
 },
 "nbformat": 4,
 "nbformat_minor": 5
}
